{
 "cells": [
  {
   "cell_type": "code",
   "execution_count": 1,
   "id": "4d5d0965-3e62-49b9-9eed-2e389a89bbfc",
   "metadata": {},
   "outputs": [],
   "source": [
    "import numpy as np\n",
    "import os\n",
    "import matplotlib.pyplot as plt\n",
    "from imutils import paths"
   ]
  },
  {
   "cell_type": "code",
   "execution_count": 2,
   "id": "b5270c8b-33b4-4331-a54c-18fb11e382f1",
   "metadata": {},
   "outputs": [],
   "source": [
    "from tensorflow.keras.applications.vgg16 import VGG16\n",
    "from tensorflow.keras.layers import AveragePooling2D\n",
    "from tensorflow.keras.layers import Dropout\n",
    "from tensorflow.keras.layers import Flatten\n",
    "from tensorflow.keras.layers import Dense\n",
    "from tensorflow.keras.layers import Input\n",
    "from tensorflow.keras.models import Model\n",
    "from tensorflow.keras.optimizers import Adam\n",
    "from tensorflow.keras.applications.vgg16 import preprocess_input"
   ]
  },
  {
   "cell_type": "code",
   "execution_count": 3,
   "id": "27312099-eea7-4a5e-994d-8dcafb26c084",
   "metadata": {},
   "outputs": [],
   "source": [
    "from tensorflow.keras.preprocessing.image import ImageDataGenerator\n",
    "from tensorflow.keras.preprocessing.image import img_to_array\n",
    "from tensorflow.keras.preprocessing.image import load_img\n",
    "from tensorflow.keras.utils import to_categorical\n",
    "from sklearn.preprocessing import LabelBinarizer\n",
    "from sklearn.model_selection import train_test_split\n",
    "from sklearn.metrics import classification_report"
   ]
  },
  {
   "cell_type": "code",
   "execution_count": 4,
   "id": "a777f8e4-9aea-4445-8ba3-760493692048",
   "metadata": {},
   "outputs": [],
   "source": [
    "dataset=\"C:\\\\Users\\\\aryan\\\\Group4-Codes\\\\normal\"\n",
    "imagePaths=list(paths.list_images(dataset))\n",
    "\n",
    "\n",
    "data=[]\n",
    "labels=[]\n",
    "\n",
    "for i in imagePaths:\n",
    "    label=i.split(os.path.sep)[-2]\n",
    "    labels.append(label)\n",
    "    image=load_img(i,target_size=(400,400))\n",
    "    image=img_to_array(image)\n",
    "    image=preprocess_input(image)\n",
    "    data.append(image)\n"
   ]
  },
  {
   "cell_type": "code",
   "execution_count": 5,
   "id": "16f90072",
   "metadata": {},
   "outputs": [
    {
     "data": {
      "text/plain": [
       "186"
      ]
     },
     "execution_count": 5,
     "metadata": {},
     "output_type": "execute_result"
    }
   ],
   "source": [
    "len(data)"
   ]
  },
  {
   "cell_type": "code",
   "execution_count": 6,
   "id": "af050dfe",
   "metadata": {},
   "outputs": [
    {
     "data": {
      "text/plain": [
       "'normal'"
      ]
     },
     "execution_count": 6,
     "metadata": {},
     "output_type": "execute_result"
    }
   ],
   "source": [
    "labels[0]"
   ]
  },
  {
   "cell_type": "code",
   "execution_count": 7,
   "id": "ba37bdc5",
   "metadata": {},
   "outputs": [],
   "source": [
    "dataset=\"C:\\\\Users\\\\aryan\\\\Group4-Codes\\\\osteporosis\"\n",
    "imagePaths=list(paths.list_images(dataset))\n",
    "\n",
    "for i in imagePaths:\n",
    "    label=i.split(os.path.sep)[-2]\n",
    "    labels.append(label)\n",
    "    image=load_img(i,target_size=(400,400))\n",
    "    image=img_to_array(image)\n",
    "    image=preprocess_input(image)\n",
    "    data.append(image)"
   ]
  },
  {
   "cell_type": "code",
   "execution_count": 8,
   "id": "f96587f1",
   "metadata": {},
   "outputs": [
    {
     "data": {
      "text/plain": [
       "array([[[-103.939  , -116.779  , -123.68   ],\n",
       "        [-103.939  , -116.779  , -123.68   ],\n",
       "        [-103.939  , -116.779  , -123.68   ],\n",
       "        ...,\n",
       "        [-103.939  , -116.779  , -123.68   ],\n",
       "        [-103.939  , -116.779  , -123.68   ],\n",
       "        [-103.939  , -116.779  , -123.68   ]],\n",
       "\n",
       "       [[-103.939  , -116.779  , -123.68   ],\n",
       "        [-103.939  , -116.779  , -123.68   ],\n",
       "        [-103.939  , -116.779  , -123.68   ],\n",
       "        ...,\n",
       "        [-103.939  , -116.779  , -123.68   ],\n",
       "        [-103.939  , -116.779  , -123.68   ],\n",
       "        [-103.939  , -116.779  , -123.68   ]],\n",
       "\n",
       "       [[-103.939  , -116.779  , -123.68   ],\n",
       "        [-103.939  , -116.779  , -123.68   ],\n",
       "        [-103.939  , -116.779  , -123.68   ],\n",
       "        ...,\n",
       "        [-103.939  , -116.779  , -123.68   ],\n",
       "        [-103.939  , -116.779  , -123.68   ],\n",
       "        [-103.939  , -116.779  , -123.68   ]],\n",
       "\n",
       "       ...,\n",
       "\n",
       "       [[ 151.061  ,  138.22101,  131.32   ],\n",
       "        [ 151.061  ,  138.22101,  131.32   ],\n",
       "        [ 151.061  ,  138.22101,  131.32   ],\n",
       "        ...,\n",
       "        [ 151.061  ,  138.22101,  131.32   ],\n",
       "        [ 151.061  ,  138.22101,  131.32   ],\n",
       "        [ 151.061  ,  138.22101,  131.32   ]],\n",
       "\n",
       "       [[ 151.061  ,  138.22101,  131.32   ],\n",
       "        [ 151.061  ,  138.22101,  131.32   ],\n",
       "        [ 151.061  ,  138.22101,  131.32   ],\n",
       "        ...,\n",
       "        [ 151.061  ,  138.22101,  131.32   ],\n",
       "        [ 151.061  ,  138.22101,  131.32   ],\n",
       "        [ 151.061  ,  138.22101,  131.32   ]],\n",
       "\n",
       "       [[ 151.061  ,  138.22101,  131.32   ],\n",
       "        [ 151.061  ,  138.22101,  131.32   ],\n",
       "        [ 151.061  ,  138.22101,  131.32   ],\n",
       "        ...,\n",
       "        [ 151.061  ,  138.22101,  131.32   ],\n",
       "        [ 151.061  ,  138.22101,  131.32   ],\n",
       "        [ 151.061  ,  138.22101,  131.32   ]]], dtype=float32)"
      ]
     },
     "execution_count": 8,
     "metadata": {},
     "output_type": "execute_result"
    }
   ],
   "source": [
    "data[0]"
   ]
  },
  {
   "cell_type": "code",
   "execution_count": 9,
   "id": "38a6dd0a",
   "metadata": {},
   "outputs": [
    {
     "data": {
      "text/plain": [
       "'osteporosis'"
      ]
     },
     "execution_count": 9,
     "metadata": {},
     "output_type": "execute_result"
    }
   ],
   "source": [
    "labels[200]"
   ]
  },
  {
   "cell_type": "code",
   "execution_count": 10,
   "id": "463f99c6",
   "metadata": {},
   "outputs": [],
   "source": [
    "data=np.array(data,dtype='float32')\n",
    "labels=np.array(labels)"
   ]
  },
  {
   "cell_type": "code",
   "execution_count": 11,
   "id": "5baf0c5b",
   "metadata": {},
   "outputs": [],
   "source": [
    "lb=LabelBinarizer()\n",
    "labels=lb.fit_transform(labels)\n",
    "#labels=to_categorical(labels)"
   ]
  },
  {
   "cell_type": "code",
   "execution_count": 12,
   "id": "ced9fab6",
   "metadata": {},
   "outputs": [],
   "source": [
    "dev_X,test_X,dev_Y,test_Y=train_test_split(data,labels,test_size=0.20,stratify=labels,random_state=10)"
   ]
  },
  {
   "cell_type": "code",
   "execution_count": 13,
   "id": "ebb1b42c",
   "metadata": {},
   "outputs": [],
   "source": [
    "train_X, valid_X, train_Y, valid_Y = train_test_split(dev_X,dev_Y,test_size=0.125, random_state=10)"
   ]
  },
  {
   "cell_type": "code",
   "execution_count": 14,
   "id": "967f17db",
   "metadata": {},
   "outputs": [],
   "source": [
    "aug=ImageDataGenerator(rotation_range=20,zoom_range=0.15,width_shift_range=0.2,height_shift_range=0.2,shear_range=0.15,horizontal_flip=True,vertical_flip=True,brightness_range=[0.5,1.5],fill_mode='nearest')"
   ]
  },
  {
   "cell_type": "code",
   "execution_count": 15,
   "id": "d45c36b6",
   "metadata": {},
   "outputs": [
    {
     "name": "stdout",
     "output_type": "stream",
     "text": [
      "Model: \"vgg16\"\n",
      "_________________________________________________________________\n",
      " Layer (type)                Output Shape              Param #   \n",
      "=================================================================\n",
      " input_1 (InputLayer)        [(None, 400, 400, 3)]     0         \n",
      "                                                                 \n",
      " block1_conv1 (Conv2D)       (None, 400, 400, 64)      1792      \n",
      "                                                                 \n",
      " block1_conv2 (Conv2D)       (None, 400, 400, 64)      36928     \n",
      "                                                                 \n",
      " block1_pool (MaxPooling2D)  (None, 200, 200, 64)      0         \n",
      "                                                                 \n",
      " block2_conv1 (Conv2D)       (None, 200, 200, 128)     73856     \n",
      "                                                                 \n",
      " block2_conv2 (Conv2D)       (None, 200, 200, 128)     147584    \n",
      "                                                                 \n",
      " block2_pool (MaxPooling2D)  (None, 100, 100, 128)     0         \n",
      "                                                                 \n",
      " block3_conv1 (Conv2D)       (None, 100, 100, 256)     295168    \n",
      "                                                                 \n",
      " block3_conv2 (Conv2D)       (None, 100, 100, 256)     590080    \n",
      "                                                                 \n",
      " block3_conv3 (Conv2D)       (None, 100, 100, 256)     590080    \n",
      "                                                                 \n",
      " block3_pool (MaxPooling2D)  (None, 50, 50, 256)       0         \n",
      "                                                                 \n",
      " block4_conv1 (Conv2D)       (None, 50, 50, 512)       1180160   \n",
      "                                                                 \n",
      " block4_conv2 (Conv2D)       (None, 50, 50, 512)       2359808   \n",
      "                                                                 \n",
      " block4_conv3 (Conv2D)       (None, 50, 50, 512)       2359808   \n",
      "                                                                 \n",
      " block4_pool (MaxPooling2D)  (None, 25, 25, 512)       0         \n",
      "                                                                 \n",
      " block5_conv1 (Conv2D)       (None, 25, 25, 512)       2359808   \n",
      "                                                                 \n",
      " block5_conv2 (Conv2D)       (None, 25, 25, 512)       2359808   \n",
      "                                                                 \n",
      " block5_conv3 (Conv2D)       (None, 25, 25, 512)       2359808   \n",
      "                                                                 \n",
      " block5_pool (MaxPooling2D)  (None, 12, 12, 512)       0         \n",
      "                                                                 \n",
      "=================================================================\n",
      "Total params: 14,714,688\n",
      "Trainable params: 14,714,688\n",
      "Non-trainable params: 0\n",
      "_________________________________________________________________\n",
      "None\n"
     ]
    }
   ],
   "source": [
    "baseModel=VGG16(weights='imagenet',include_top=False,input_tensor=Input(shape=(400,400,3)))\n",
    "\n",
    "print(baseModel.summary())"
   ]
  },
  {
   "cell_type": "code",
   "execution_count": 16,
   "id": "b6d58836",
   "metadata": {},
   "outputs": [],
   "source": [
    "headModel=baseModel.output\n",
    "headModel=AveragePooling2D(pool_size=(7,7))(headModel)\n",
    "headModel=Flatten(name='Flatten')(headModel)\n",
    "headModel=Dense(128,activation='relu')(headModel)\n",
    "headModel=Dropout(0.5)(headModel)\n",
    "headModel=Dense(1,activation='sigmoid')(headModel)"
   ]
  },
  {
   "cell_type": "code",
   "execution_count": 17,
   "id": "8f9c45f0",
   "metadata": {},
   "outputs": [],
   "source": [
    "model=Model(inputs=baseModel.input,outputs=headModel)"
   ]
  },
  {
   "cell_type": "code",
   "execution_count": 18,
   "id": "34e6916b",
   "metadata": {},
   "outputs": [
    {
     "name": "stdout",
     "output_type": "stream",
     "text": [
      "Model: \"model\"\n",
      "_________________________________________________________________\n",
      " Layer (type)                Output Shape              Param #   \n",
      "=================================================================\n",
      " input_1 (InputLayer)        [(None, 400, 400, 3)]     0         \n",
      "                                                                 \n",
      " block1_conv1 (Conv2D)       (None, 400, 400, 64)      1792      \n",
      "                                                                 \n",
      " block1_conv2 (Conv2D)       (None, 400, 400, 64)      36928     \n",
      "                                                                 \n",
      " block1_pool (MaxPooling2D)  (None, 200, 200, 64)      0         \n",
      "                                                                 \n",
      " block2_conv1 (Conv2D)       (None, 200, 200, 128)     73856     \n",
      "                                                                 \n",
      " block2_conv2 (Conv2D)       (None, 200, 200, 128)     147584    \n",
      "                                                                 \n",
      " block2_pool (MaxPooling2D)  (None, 100, 100, 128)     0         \n",
      "                                                                 \n",
      " block3_conv1 (Conv2D)       (None, 100, 100, 256)     295168    \n",
      "                                                                 \n",
      " block3_conv2 (Conv2D)       (None, 100, 100, 256)     590080    \n",
      "                                                                 \n",
      " block3_conv3 (Conv2D)       (None, 100, 100, 256)     590080    \n",
      "                                                                 \n",
      " block3_pool (MaxPooling2D)  (None, 50, 50, 256)       0         \n",
      "                                                                 \n",
      " block4_conv1 (Conv2D)       (None, 50, 50, 512)       1180160   \n",
      "                                                                 \n",
      " block4_conv2 (Conv2D)       (None, 50, 50, 512)       2359808   \n",
      "                                                                 \n",
      " block4_conv3 (Conv2D)       (None, 50, 50, 512)       2359808   \n",
      "                                                                 \n",
      " block4_pool (MaxPooling2D)  (None, 25, 25, 512)       0         \n",
      "                                                                 \n",
      " block5_conv1 (Conv2D)       (None, 25, 25, 512)       2359808   \n",
      "                                                                 \n",
      " block5_conv2 (Conv2D)       (None, 25, 25, 512)       2359808   \n",
      "                                                                 \n",
      " block5_conv3 (Conv2D)       (None, 25, 25, 512)       2359808   \n",
      "                                                                 \n",
      " block5_pool (MaxPooling2D)  (None, 12, 12, 512)       0         \n",
      "                                                                 \n",
      " average_pooling2d (AverageP  (None, 1, 1, 512)        0         \n",
      " ooling2D)                                                       \n",
      "                                                                 \n",
      " Flatten (Flatten)           (None, 512)               0         \n",
      "                                                                 \n",
      " dense (Dense)               (None, 128)               65664     \n",
      "                                                                 \n",
      " dropout (Dropout)           (None, 128)               0         \n",
      "                                                                 \n",
      " dense_1 (Dense)             (None, 1)                 129       \n",
      "                                                                 \n",
      "=================================================================\n",
      "Total params: 14,780,481\n",
      "Trainable params: 65,793\n",
      "Non-trainable params: 14,714,688\n",
      "_________________________________________________________________\n",
      "None\n"
     ]
    }
   ],
   "source": [
    "for layer in baseModel.layers:\n",
    "    layer.trainable=False\n",
    "\n",
    "print(model.summary())"
   ]
  },
  {
   "cell_type": "code",
   "execution_count": 19,
   "id": "bb221740",
   "metadata": {},
   "outputs": [],
   "source": [
    "learning_rate=0.001\n",
    "Epochs=50\n",
    "BS=16"
   ]
  },
  {
   "cell_type": "code",
   "execution_count": 20,
   "id": "521bdcec",
   "metadata": {},
   "outputs": [
    {
     "name": "stderr",
     "output_type": "stream",
     "text": [
      "D:\\anaconda\\lib\\site-packages\\keras\\optimizers\\optimizer_v2\\adam.py:110: UserWarning: The `lr` argument is deprecated, use `learning_rate` instead.\n",
      "  super(Adam, self).__init__(name, **kwargs)\n"
     ]
    },
    {
     "name": "stdout",
     "output_type": "stream",
     "text": [
      "Epoch 1/50\n",
      "16/16 [==============================] - 74s 5s/step - loss: 1.1586 - accuracy: 0.5781 - val_loss: 0.9696 - val_accuracy: 0.5000\n",
      "Epoch 2/50\n",
      "16/16 [==============================] - 73s 5s/step - loss: 0.9296 - accuracy: 0.6255 - val_loss: 0.5774 - val_accuracy: 0.7632\n",
      "Epoch 3/50\n",
      "16/16 [==============================] - 73s 5s/step - loss: 0.9758 - accuracy: 0.6132 - val_loss: 0.5592 - val_accuracy: 0.7632\n",
      "Epoch 4/50\n",
      "16/16 [==============================] - 73s 5s/step - loss: 0.7034 - accuracy: 0.6914 - val_loss: 0.5592 - val_accuracy: 0.7105\n",
      "Epoch 5/50\n",
      "16/16 [==============================] - 73s 5s/step - loss: 0.7044 - accuracy: 0.6584 - val_loss: 0.5305 - val_accuracy: 0.7632\n",
      "Epoch 6/50\n",
      "16/16 [==============================] - 73s 5s/step - loss: 0.6838 - accuracy: 0.6790 - val_loss: 0.6090 - val_accuracy: 0.6842\n",
      "Epoch 7/50\n",
      "16/16 [==============================] - 76s 5s/step - loss: 0.6517 - accuracy: 0.6680 - val_loss: 0.5186 - val_accuracy: 0.7368\n",
      "Epoch 8/50\n",
      "16/16 [==============================] - 73s 5s/step - loss: 0.6479 - accuracy: 0.6667 - val_loss: 0.5104 - val_accuracy: 0.6579\n",
      "Epoch 9/50\n",
      "16/16 [==============================] - 73s 5s/step - loss: 0.6019 - accuracy: 0.7078 - val_loss: 0.4875 - val_accuracy: 0.7368\n",
      "Epoch 10/50\n",
      "16/16 [==============================] - 73s 5s/step - loss: 0.5959 - accuracy: 0.6872 - val_loss: 0.4941 - val_accuracy: 0.6842\n",
      "Epoch 11/50\n",
      "16/16 [==============================] - 73s 5s/step - loss: 0.5275 - accuracy: 0.7325 - val_loss: 0.4840 - val_accuracy: 0.6842\n",
      "Epoch 12/50\n",
      "16/16 [==============================] - 73s 5s/step - loss: 0.5368 - accuracy: 0.7325 - val_loss: 0.5137 - val_accuracy: 0.6842\n",
      "Epoch 13/50\n",
      "16/16 [==============================] - 75s 5s/step - loss: 0.5615 - accuracy: 0.7119 - val_loss: 0.4948 - val_accuracy: 0.7368\n",
      "Epoch 14/50\n",
      "16/16 [==============================] - 76s 5s/step - loss: 0.5919 - accuracy: 0.7266 - val_loss: 0.4749 - val_accuracy: 0.7632\n",
      "Epoch 15/50\n",
      "16/16 [==============================] - 73s 5s/step - loss: 0.5445 - accuracy: 0.7160 - val_loss: 0.5024 - val_accuracy: 0.7632\n",
      "Epoch 16/50\n",
      "16/16 [==============================] - 73s 5s/step - loss: 0.5029 - accuracy: 0.7490 - val_loss: 0.5013 - val_accuracy: 0.7105\n",
      "Epoch 17/50\n",
      "16/16 [==============================] - 73s 5s/step - loss: 0.5660 - accuracy: 0.7243 - val_loss: 0.5039 - val_accuracy: 0.7105\n",
      "Epoch 18/50\n",
      "16/16 [==============================] - 74s 5s/step - loss: 0.5287 - accuracy: 0.7449 - val_loss: 0.5613 - val_accuracy: 0.7105\n",
      "Epoch 19/50\n",
      "16/16 [==============================] - 71s 4s/step - loss: 0.5605 - accuracy: 0.7284 - val_loss: 0.4943 - val_accuracy: 0.7368\n",
      "Epoch 20/50\n",
      "16/16 [==============================] - 69s 4s/step - loss: 0.5592 - accuracy: 0.7284 - val_loss: 0.5275 - val_accuracy: 0.7368\n",
      "Epoch 21/50\n",
      "16/16 [==============================] - 69s 4s/step - loss: 0.5262 - accuracy: 0.7572 - val_loss: 0.5044 - val_accuracy: 0.7105\n",
      "Epoch 22/50\n",
      "16/16 [==============================] - 69s 4s/step - loss: 0.5225 - accuracy: 0.7613 - val_loss: 0.5240 - val_accuracy: 0.6579\n",
      "Epoch 23/50\n",
      "16/16 [==============================] - 69s 5s/step - loss: 0.5796 - accuracy: 0.7572 - val_loss: 0.5417 - val_accuracy: 0.7105\n",
      "Epoch 24/50\n",
      "16/16 [==============================] - 69s 4s/step - loss: 0.5166 - accuracy: 0.7407 - val_loss: 0.5162 - val_accuracy: 0.7105\n",
      "Epoch 25/50\n",
      "16/16 [==============================] - 69s 4s/step - loss: 0.4859 - accuracy: 0.7613 - val_loss: 0.4813 - val_accuracy: 0.7632\n",
      "Epoch 26/50\n",
      "16/16 [==============================] - 69s 5s/step - loss: 0.5129 - accuracy: 0.7490 - val_loss: 0.4802 - val_accuracy: 0.7895\n",
      "Epoch 27/50\n",
      "16/16 [==============================] - 69s 4s/step - loss: 0.5371 - accuracy: 0.7737 - val_loss: 0.5085 - val_accuracy: 0.6842\n",
      "Epoch 28/50\n",
      "16/16 [==============================] - 72s 5s/step - loss: 0.5560 - accuracy: 0.7325 - val_loss: 0.4748 - val_accuracy: 0.8158\n",
      "Epoch 29/50\n",
      "16/16 [==============================] - 76s 5s/step - loss: 0.5339 - accuracy: 0.7500 - val_loss: 0.5392 - val_accuracy: 0.6842\n",
      "Epoch 30/50\n",
      "16/16 [==============================] - 73s 5s/step - loss: 0.5377 - accuracy: 0.7284 - val_loss: 0.4886 - val_accuracy: 0.8158\n",
      "Epoch 31/50\n",
      "16/16 [==============================] - 73s 5s/step - loss: 0.5094 - accuracy: 0.8025 - val_loss: 0.5253 - val_accuracy: 0.7105\n",
      "Epoch 32/50\n",
      "16/16 [==============================] - 73s 5s/step - loss: 0.5397 - accuracy: 0.7407 - val_loss: 0.5009 - val_accuracy: 0.7368\n",
      "Epoch 33/50\n",
      "16/16 [==============================] - 76s 5s/step - loss: 0.5021 - accuracy: 0.7617 - val_loss: 0.5349 - val_accuracy: 0.7105\n",
      "Epoch 34/50\n",
      "16/16 [==============================] - 73s 5s/step - loss: 0.4995 - accuracy: 0.7449 - val_loss: 0.5215 - val_accuracy: 0.7105\n",
      "Epoch 35/50\n",
      "16/16 [==============================] - 73s 5s/step - loss: 0.4901 - accuracy: 0.7613 - val_loss: 0.5485 - val_accuracy: 0.7368\n",
      "Epoch 36/50\n",
      "16/16 [==============================] - 73s 5s/step - loss: 0.4976 - accuracy: 0.7572 - val_loss: 0.5066 - val_accuracy: 0.7895\n",
      "Epoch 37/50\n",
      "16/16 [==============================] - 73s 5s/step - loss: 0.5001 - accuracy: 0.7654 - val_loss: 0.5661 - val_accuracy: 0.7368\n",
      "Epoch 38/50\n",
      "16/16 [==============================] - 73s 5s/step - loss: 0.4696 - accuracy: 0.7654 - val_loss: 0.4941 - val_accuracy: 0.7895\n",
      "Epoch 39/50\n",
      "16/16 [==============================] - 73s 5s/step - loss: 0.5299 - accuracy: 0.7284 - val_loss: 0.5241 - val_accuracy: 0.7368\n",
      "Epoch 40/50\n",
      "16/16 [==============================] - 76s 5s/step - loss: 0.4714 - accuracy: 0.7969 - val_loss: 0.4895 - val_accuracy: 0.7895\n",
      "Epoch 41/50\n",
      "16/16 [==============================] - 73s 5s/step - loss: 0.5552 - accuracy: 0.7325 - val_loss: 0.4961 - val_accuracy: 0.7105\n",
      "Epoch 42/50\n",
      "16/16 [==============================] - 73s 5s/step - loss: 0.5023 - accuracy: 0.7490 - val_loss: 0.4828 - val_accuracy: 0.7632\n",
      "Epoch 43/50\n",
      "16/16 [==============================] - 72s 5s/step - loss: 0.5207 - accuracy: 0.7119 - val_loss: 0.5113 - val_accuracy: 0.7105\n",
      "Epoch 44/50\n",
      "16/16 [==============================] - 76s 5s/step - loss: 0.4500 - accuracy: 0.7734 - val_loss: 0.4935 - val_accuracy: 0.7368\n",
      "Epoch 45/50\n",
      "16/16 [==============================] - 73s 5s/step - loss: 0.4941 - accuracy: 0.7984 - val_loss: 0.4697 - val_accuracy: 0.7632\n",
      "Epoch 46/50\n",
      "16/16 [==============================] - 73s 5s/step - loss: 0.5036 - accuracy: 0.7613 - val_loss: 0.5196 - val_accuracy: 0.7368\n",
      "Epoch 47/50\n",
      "16/16 [==============================] - 73s 5s/step - loss: 0.4338 - accuracy: 0.7901 - val_loss: 0.5223 - val_accuracy: 0.7368\n",
      "Epoch 48/50\n",
      "16/16 [==============================] - 73s 5s/step - loss: 0.4781 - accuracy: 0.7613 - val_loss: 0.5084 - val_accuracy: 0.7632\n",
      "Epoch 49/50\n",
      "16/16 [==============================] - 72s 5s/step - loss: 0.5238 - accuracy: 0.7654 - val_loss: 0.5211 - val_accuracy: 0.7632\n",
      "Epoch 50/50\n",
      "16/16 [==============================] - 72s 5s/step - loss: 0.4970 - accuracy: 0.7531 - val_loss: 0.4948 - val_accuracy: 0.7632\n"
     ]
    }
   ],
   "source": [
    "opt=Adam(lr=learning_rate,decay=learning_rate/Epochs)\n",
    "model.compile(loss='binary_crossentropy',optimizer=opt,metrics=['accuracy'])\n",
    "\n",
    "H=model.fit(\n",
    "    aug.flow(train_X,train_Y,batch_size=BS),\n",
    "    steps_per_epoch=len(train_X)//BS,\n",
    "    validation_data=(valid_X,valid_Y),\n",
    "    validation_steps=len(valid_X)//BS,\n",
    "    epochs=Epochs\n",
    ")"
   ]
  },
  {
   "cell_type": "code",
   "execution_count": 21,
   "id": "16541f84",
   "metadata": {},
   "outputs": [
    {
     "name": "stdout",
     "output_type": "stream",
     "text": [
      "5/5 [==============================] - 19s 4s/step\n",
      "              precision    recall  f1-score   support\n",
      "\n",
      "      normal       0.83      0.54      0.66        37\n",
      " osteporosis       0.67      0.89      0.76        38\n",
      "\n",
      "    accuracy                           0.72        75\n",
      "   macro avg       0.75      0.72      0.71        75\n",
      "weighted avg       0.75      0.72      0.71        75\n",
      "\n"
     ]
    }
   ],
   "source": [
    "predict=model.predict(test_X,batch_size=BS)\n",
    "predict=np.round_(predict)\n",
    "print(classification_report(test_Y,predict,target_names=lb.classes_))"
   ]
  },
  {
   "cell_type": "code",
   "execution_count": 31,
   "id": "b0e1598a",
   "metadata": {},
   "outputs": [
    {
     "data": {
      "text/plain": [
       "<matplotlib.legend.Legend at 0x1f29bd49c40>"
      ]
     },
     "execution_count": 31,
     "metadata": {},
     "output_type": "execute_result"
    },
    {
     "data": {
      "image/png": "[encoded data removed]",
      "text/plain": [
       "<Figure size 432x288 with 1 Axes>"
      ]
     },
     "metadata": {},
     "output_type": "display_data"
    }
   ],
   "source": [
    "N = Epochs\n",
    "plt.style.use(\"ggplot\")\n",
    "plt.figure()\n",
    "plt.plot(np.arange(0, N), H.history[\"loss\"], label=\"train_loss\")\n",
    "plt.plot(np.arange(0, N), H.history[\"val_loss\"], label=\"val_loss\")\n",
    "plt.plot(np.arange(0, N), H.history[\"accuracy\"], label=\"train_acc\")\n",
    "plt.plot(np.arange(0, N), H.history[\"val_accuracy\"], label=\"val_acc\")\n",
    "plt.title(\"Training Loss and Accuracy-VGG\")\n",
    "plt.xlabel(\"Epoch #\")\n",
    "plt.ylabel(\"Loss/Accuracy\")\n",
    "plt.legend(loc=\"lower left\")"
   ]
  },
  {
   "cell_type": "code",
   "execution_count": 23,
   "id": "6bab7ddf",
   "metadata": {},
   "outputs": [
    {
     "data": {
      "image/png": "[encoded data removed]",
      "text/plain": [
       "<Figure size 864x576 with 1 Axes>"
      ]
     },
     "metadata": {},
     "output_type": "display_data"
    }
   ],
   "source": [
    "barWidth = 0.1\n",
    "fig = plt.subplots(figsize =(12, 8))\n",
    "\n",
    "precision = [0.78, 0.65]\n",
    "recall = [0.55, 0.84]\n",
    "f1 = [0.65, 0.73]\n",
    "\n",
    "br1 = np.arange(len(precision))\n",
    "br2 = [x + barWidth for x in br1]\n",
    "br3 = [x + barWidth for x in br2]\n",
    "\n",
    "plt.bar(br1, precision, color ='r', width = barWidth, edgecolor ='grey', label ='precision')\n",
    "plt.bar(br2, recall, color ='g', width = barWidth, edgecolor ='grey', label ='recall')\n",
    "plt.bar(br3, f1, color ='b', width = barWidth, edgecolor ='grey', label ='f1-score')\n",
    "\n",
    "plt.title(\"Face Mask Classifier Performance\", fontsize = 20)\n",
    "plt.xticks([r + barWidth for r in range(len(precision))],\n",
    "        ['with Osteoporosis', 'without Osteoporosis'])\n",
    " \n",
    "plt.legend()\n",
    "plt.show()"
   ]
  },
  {
   "cell_type": "code",
   "execution_count": 24,
   "id": "f3d2364e",
   "metadata": {},
   "outputs": [],
   "source": [
    "#model.save('VGG-Osteoporosis Classification')"
   ]
  },
  {
   "cell_type": "code",
   "execution_count": 25,
   "id": "d12d881f",
   "metadata": {},
   "outputs": [],
   "source": [
    "#import pickle"
   ]
  },
  {
   "cell_type": "code",
   "execution_count": 26,
   "id": "50c83118",
   "metadata": {},
   "outputs": [],
   "source": [
    "#filename = 'VGG_Osteoporosis_model.sav'\n",
    "#pickle.dump(model, open(filename, 'wb'))"
   ]
  },
  {
   "cell_type": "code",
   "execution_count": 27,
   "id": "e7e11207",
   "metadata": {},
   "outputs": [],
   "source": [
    "save_path = './Osteoporosis_Classification_VGG_model.h5'\n",
    "model.save(save_path)\n"
   ]
  },
  {
   "cell_type": "code",
   "execution_count": 28,
   "id": "698ba831",
   "metadata": {},
   "outputs": [],
   "source": [
    "#import tensorflow as tf\n",
    "#m1 = tf.keras.models.load_model(save_path)"
   ]
  },
  {
   "cell_type": "code",
   "execution_count": 29,
   "id": "df184597",
   "metadata": {},
   "outputs": [],
   "source": [
    "#result = m1.predict(np.array(data[0])"
   ]
  },
  {
   "cell_type": "code",
   "execution_count": null,
   "id": "05781942",
   "metadata": {},
   "outputs": [],
   "source": []
  }
 ],
 "metadata": {
  "kernelspec": {
   "display_name": "Python 3 (ipykernel)",
   "language": "python",
   "name": "python3"
  },
  "language_info": {
   "codemirror_mode": {
    "name": "ipython",
    "version": 3
   },
   "file_extension": ".py",
   "mimetype": "text/x-python",
   "name": "python",
   "nbconvert_exporter": "python",
   "pygments_lexer": "ipython3",
   "version": "3.9.12"
  }
 },
 "nbformat": 4,
 "nbformat_minor": 5
}
